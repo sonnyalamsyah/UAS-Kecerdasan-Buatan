{
  "nbformat": 4,
  "nbformat_minor": 0,
  "metadata": {
    "colab": {
      "name": "Sonny Alamsyah-171011450317-UAS-Kecerdasan Buatan.ipynb",
      "provenance": [],
      "collapsed_sections": [],
      "authorship_tag": "ABX9TyO50sY5W8o0UNT3vsq+6R9t",
      "include_colab_link": true
    },
    "kernelspec": {
      "name": "python3",
      "display_name": "Python 3"
    }
  },
  "cells": [
    {
      "cell_type": "markdown",
      "metadata": {
        "id": "view-in-github",
        "colab_type": "text"
      },
      "source": [
        "<a href=\"https://colab.research.google.com/github/sonnyalamsyah/UAS-Kecerdasan-Buatan/blob/main/Sonny_Alamsyah_171011450317_UAS_Kecerdasan_Buatan.ipynb\" target=\"_parent\"><img src=\"https://colab.research.google.com/assets/colab-badge.svg\" alt=\"Open In Colab\"/></a>"
      ]
    },
    {
      "cell_type": "code",
      "metadata": {
        "colab": {
          "base_uri": "https://localhost:8080/"
        },
        "id": "ObS6yJNfQEL8",
        "outputId": "c4a5c74c-c714-4145-f477-eca08445ddd2"
      },
      "source": [
        "A = ['Nama : Sonny Alamsyah']\r\n",
        "B = ['NIM : 171011450317']\r\n",
        "C = ['Kelas : 06 TPLM 001']\r\n",
        "D = ['Tugas : Membuat Project AI Menggunakan Metode Decision Tree']\r\n",
        "\r\n",
        "from sklearn import tree\r\n",
        "\r\n",
        "clf = tree.DecisionTreeClassifier()\r\n",
        "\r\n",
        "X = [[180, 80, 40], [170, 70, 30], [70, 60, 20], [50, 50, 10]] #[TinggiBadan, BeratBadan, Umur]\r\n",
        "\r\n",
        "Y = ['Pria', 'Pria', 'Wanita', 'Wanita'] #Keterangan Yang akan di Label_kan (di Jelaskan)\r\n",
        "\r\n",
        "clf = clf.fit(X, Y)\r\n",
        "\r\n",
        "prediction = clf.predict([[170, 90, 25]]) #Inputan Model Data yang digunakan \r\n",
        "\r\n",
        "print(A,B,C,D,prediction)"
      ],
      "execution_count": 1,
      "outputs": [
        {
          "output_type": "stream",
          "text": [
            "['Nama : Sonny Alamsyah'] ['NIM : 171011450317'] ['Kelas : 06 TPLM 001'] ['Tugas : Membuat Project AI Menggunakan Metode Decision Tree'] ['Pria']\n"
          ],
          "name": "stdout"
        }
      ]
    },
    {
      "cell_type": "markdown",
      "metadata": {
        "id": "vtttKKzIX-F3"
      },
      "source": [
        "Menggunakan library \"scikit-learn\" pada python (\"sklearn\") dengan memanggil \"Tree\""
      ]
    },
    {
      "cell_type": "markdown",
      "metadata": {
        "id": "vRL07Y_tX-Cx"
      },
      "source": [
        "Kemudian di Buat sebuah fariabel \"clf\"\r\n",
        "\r\n",
        "di dalam fariabel \"clf\" di panggil \"tree.DecisionTreeClassifier()\" Sebagai model yang akan digunakan"
      ]
    },
    {
      "cell_type": "markdown",
      "metadata": {
        "id": "uZkBFa3TbD5O"
      },
      "source": [
        "Inputan Klasifikasi Objek data dalam bentuk Array (Array adalah sebuah variabel yang menyimpan lebih dari 1 buah data yang memiliki tipe data yang sama)"
      ]
    },
    {
      "cell_type": "markdown",
      "metadata": {
        "id": "slrlVIcjbJaI"
      },
      "source": [
        "Dilakukan \"fitting data\" atau penyesuaian data ke 'Model' yang digunakan.\r\n",
        "\r\n",
        "Model yang digunakan adalah \"DecisionTree\"\r\n",
        "\r\n",
        "dilakukan fitting data pada data X dan Y \"Untuk training model (Model Pelatihan)\" pada \"DecisionTree\"\r\n",
        "\r\n",
        "Maka ketika kita ingin melakukan prediksi, Maka akan mengambil model \"data X dan Y yang telah di buat sebelumnya, untuk di cocokkan dengan data Inputan untuk presiksi\" kemudian akan tampil hasilnya"
      ]
    }
  ]
}